{
  "nbformat": 4,
  "nbformat_minor": 0,
  "metadata": {
    "kernelspec": {
      "display_name": "Python 3",
      "language": "python",
      "name": "python3"
    },
    "language_info": {
      "codemirror_mode": {
        "name": "ipython",
        "version": 3
      },
      "file_extension": ".py",
      "mimetype": "text/x-python",
      "name": "python",
      "nbconvert_exporter": "python",
      "pygments_lexer": "ipython3",
      "version": "3.7.4"
    },
    "colab": {
      "name": "Prime Number Evaluator.ipynb",
      "provenance": []
    }
  },
  "cells": [
    {
      "cell_type": "markdown",
      "metadata": {
        "id": "_QEuSnJHO80U",
        "colab_type": "text"
      },
      "source": [
        "# Practice Problems\n",
        "\n",
        "One of the best resources I have found for basic Python tutorials is www.geeksforgeeks.org. I have selected a few practice problems relevant to this class that I recommend you take a look at if you are still trying to wrap your head around loops, lists, data series, data frames, plotting, etc. \n",
        "\n",
        "If you would prefer to explore on your own, I recommend you take a look here.: https://www.geeksforgeeks.org/python-programming-language/"
      ]
    },
    {
      "cell_type": "markdown",
      "metadata": {
        "id": "VWvt0iodKU7z",
        "colab_type": "text"
      },
      "source": [
        "## Problem 1\n",
        "\n",
        "Write a code that lists all prime numbers in a range. The answer can be found at: https://www.geeksforgeeks.org/python-program-to-print-all-prime-numbers-in-an-interval/\n",
        "\n",
        "Hint: Consider a prime number $P$. The remainder of $P/n$ must always be greater than zero if $n$ is an integer and $1<n<P$. The remainder can be calculated using the modulus operator (%). For example:\n",
        "<ul>\n",
        "<li>99%9=0</li>\n",
        "<li>99%98=1</li>\n",
        "<li>99%5=4</li>\n",
        "\n"
      ]
    },
    {
      "cell_type": "code",
      "metadata": {
        "id": "cYB2GGT9KR6j",
        "colab_type": "code",
        "colab": {}
      },
      "source": [
        "# write your answer here\n",
        "\n",
        "\n"
      ],
      "execution_count": 0,
      "outputs": []
    },
    {
      "cell_type": "markdown",
      "metadata": {
        "id": "yLC4vlTvKluH",
        "colab_type": "text"
      },
      "source": [
        "## Problem 2\n",
        "\n",
        "Write a code that asks for the user to input an integer and returns an integer. \n",
        "\n",
        "Hint: You will need to use the function `input()`. \n",
        "\n",
        "For more information, see: https://snakify.org/en/lessons/print_input_numbers/. "
      ]
    },
    {
      "cell_type": "code",
      "metadata": {
        "id": "OrIZpbI5KQFF",
        "colab_type": "code",
        "colab": {}
      },
      "source": [
        "# write code here, answer is in the next code block\n",
        "\n",
        "\n",
        "\n",
        "\n",
        "\n",
        "\n",
        "\n",
        "\n",
        "\n",
        "\n",
        "\n",
        "\n",
        "\n",
        "\n",
        "\n",
        "\n",
        "\n",
        "\n",
        "\n",
        "\n",
        "\n",
        "\n",
        "\n",
        "\n",
        "\n",
        "\n",
        "\n",
        "\n",
        "\n",
        "\n",
        "\n",
        "\n",
        "\n",
        "\n",
        "\n",
        "\n",
        "\n",
        "\n",
        "\n",
        "\n",
        "\n"
      ],
      "execution_count": 0,
      "outputs": []
    },
    {
      "cell_type": "code",
      "metadata": {
        "id": "ibuUETa7QbAA",
        "colab_type": "code",
        "colab": {
          "base_uri": "https://localhost:8080/",
          "height": 68
        },
        "outputId": "82fd8dba-1f7d-43aa-e8ab-12921c155fbc"
      },
      "source": [
        "# note that input() returns a string by default, so you must convert to int()\n",
        "inputnum = int(input(\"Please input an integer: \"))\n",
        "print(inputnum)\n",
        "print(type(inputnum))"
      ],
      "execution_count": 16,
      "outputs": [
        {
          "output_type": "stream",
          "text": [
            "Please input an integer: 20\n",
            "20\n",
            "<class 'int'>\n"
          ],
          "name": "stdout"
        }
      ]
    },
    {
      "cell_type": "markdown",
      "metadata": {
        "id": "NIMf8SPKSYFQ",
        "colab_type": "text"
      },
      "source": [
        "## Problem 3\n",
        "\n",
        "Write a code that checks if two lists have anything in common. "
      ]
    },
    {
      "cell_type": "code",
      "metadata": {
        "id": "lALHCA7sSmxG",
        "colab_type": "code",
        "colab": {}
      },
      "source": [
        "# Write your code here\n",
        "\n",
        "# Initialization of list \n",
        "list1 = [1, 2, 3, 4, 55] \n",
        "list2 = [2, 3, 90, 22] \n",
        "\n",
        "\n",
        "\n",
        "\n",
        "\n",
        "\n",
        "\n",
        "\n",
        "\n",
        "\n",
        "\n",
        "\n",
        "\n",
        "\n",
        "\n",
        "\n",
        "\n",
        "\n",
        "\n",
        "\n",
        "\n",
        "\n",
        "\n",
        "\n",
        "\n",
        "\n",
        "\n",
        "\n",
        "\n",
        "\n",
        "\n",
        "\n",
        "\n",
        "\n",
        "\n",
        "\n",
        "\n",
        "\n",
        "\n"
      ],
      "execution_count": 0,
      "outputs": []
    },
    {
      "cell_type": "code",
      "metadata": {
        "id": "_paAyOWlSqve",
        "colab_type": "code",
        "colab": {
          "base_uri": "https://localhost:8080/",
          "height": 34
        },
        "outputId": "e98778c0-4aa0-43b2-e3fe-cdbae73def83"
      },
      "source": [
        "# You might have come up with something like this, but this isn't the most \"Pythonic\" way to write this code.\n",
        " \n",
        "# Initialization of list \n",
        "list1 = [1, 9, 7, 4, 55] \n",
        "list2 = [2, 7, 90, 22] \n",
        "\n",
        "# we will assign a flag of 0, if it never updates, then the lists do not share an element\n",
        "flag = 0\n",
        "\n",
        "for el1 in list1:\n",
        "  for el2 in list2:\n",
        "    if el1 == el2:\n",
        "      # if elements are ever the same, flag is set to 1\n",
        "      flag = 1\n",
        "\n",
        "if flag==0:\n",
        "  print('The lists do not share at least one element')\n",
        "if flag==1:\n",
        "  print('The lists share at least one element')\n",
        "    \n"
      ],
      "execution_count": 21,
      "outputs": [
        {
          "output_type": "stream",
          "text": [
            "The lists share at least one element\n"
          ],
          "name": "stdout"
        }
      ]
    },
    {
      "cell_type": "code",
      "metadata": {
        "id": "DT3QlTItUGUV",
        "colab_type": "code",
        "colab": {
          "base_uri": "https://localhost:8080/",
          "height": 34
        },
        "outputId": "07b56dfd-b2c2-463b-d9fd-b04c97ccdc1f"
      },
      "source": [
        "# A more \"Pythonic\" way is to write this similarly, but recognize that you can use `if` rather than `for` to see is `el1` is in list2. This way still uses a loop.\n",
        "# Initialization of list \n",
        "list1 = [1, 9, 7, 4, 55] \n",
        "list2 = [2, 8, 90, 22] \n",
        "\n",
        "# we will assign a flag of 0, if it never updates, then the lists do not share an element\n",
        "flag = 0\n",
        "\n",
        "for el1 in list1:\n",
        "  if el1 in list2:\n",
        "    # if elements are ever the same, flag is set to 1\n",
        "    flag = 1\n",
        "\n",
        "if flag==0:\n",
        "  print('The lists do not share at least one element')\n",
        "if flag==1:\n",
        "  print('The lists share at least one element')"
      ],
      "execution_count": 28,
      "outputs": [
        {
          "output_type": "stream",
          "text": [
            "The lists do not share at least one element\n"
          ],
          "name": "stdout"
        }
      ]
    },
    {
      "cell_type": "code",
      "metadata": {
        "id": "BWEp0-_fUsrn",
        "colab_type": "code",
        "colab": {
          "base_uri": "https://localhost:8080/",
          "height": 51
        },
        "outputId": "d7d0a96c-1e88-4458-a27f-20c4a4ced339"
      },
      "source": [
        "# The most \"Pythonic\", and also the most unreadable, way is to use the \"any()\" function. \n",
        "# The any function returns a list of True and Falses, and the any() function then returns True if any element in this list is True, otherwise it returns False\n",
        "\n",
        "# Initialization of list \n",
        "list1 = [1, 2, 3, 4, 55] \n",
        "list2 = [9, 8, 90, 22] \n",
        "  \n",
        "# using any function \n",
        "out = any(check in list1 for check in list2)\n",
        "\n",
        "if out:\n",
        "  print('The lists share at least one element')\n",
        "else:\n",
        "  print('The lists do not share at least one element')"
      ],
      "execution_count": 31,
      "outputs": [
        {
          "output_type": "stream",
          "text": [
            "False\n",
            "The lists do not share at least one element\n"
          ],
          "name": "stdout"
        }
      ]
    },
    {
      "cell_type": "markdown",
      "metadata": {
        "id": "u9fWgGUpWMqg",
        "colab_type": "text"
      },
      "source": [
        "## Problem 4\n",
        "\n",
        "Without introducing a new variable, write a code that <b>swaps</b> variables `x` and `y`.\n",
        "\n",
        "The answer can be found at: https://www.geeksforgeeks.org/swap-two-variables-in-one-line-in-c-c-python-php-and-java/. "
      ]
    },
    {
      "cell_type": "code",
      "metadata": {
        "id": "PCQLe1bWWmoD",
        "colab_type": "code",
        "colab": {}
      },
      "source": [
        "x = 5\n",
        "y = 10"
      ],
      "execution_count": 0,
      "outputs": []
    },
    {
      "cell_type": "markdown",
      "metadata": {
        "id": "3zgcKqSkW1im",
        "colab_type": "text"
      },
      "source": [
        "## Problem 5\n",
        "\n",
        "Import the following .csv file as a Pandas DataFrame: https://drive.google.com/file/d/1Uzdua5o61cfXMz1K16NNcwLFqG91J6W4/view. Note that this link is not to the raw .csv file, so you will have to figure out how to get Python to read it. \n",
        "\n",
        "This file contains a list of NBA players and some associated information. Where players did not attend college, Pandas reads in blanks as `NaN`. Write a code that replaces these `NaN` values with the string \"No College\".\n",
        "\n",
        "The answer can be found at: https://www.geeksforgeeks.org/python-pandas-dataframe-fillna-to-replace-null-values-in-dataframe/. "
      ]
    },
    {
      "cell_type": "code",
      "metadata": {
        "id": "nD8pI3ihW0OQ",
        "colab_type": "code",
        "colab": {}
      },
      "source": [
        ""
      ],
      "execution_count": 0,
      "outputs": []
    },
    {
      "cell_type": "markdown",
      "metadata": {
        "id": "vLB_MdnpbU6Y",
        "colab_type": "text"
      },
      "source": [
        "## Problem 6\n",
        "\n",
        "Consider the following Pandas DataFrame. Write a code that returns the unique values in Column B. \n",
        "\n",
        "The answer is at: https://www.geeksforgeeks.org/get-unique-values-from-a-column-in-pandas-dataframe/"
      ]
    },
    {
      "cell_type": "code",
      "metadata": {
        "id": "W5fX-w_-bbld",
        "colab_type": "code",
        "colab": {
          "base_uri": "https://localhost:8080/",
          "height": 119
        },
        "outputId": "387f4ccd-3879-4300-ff16-ebb90fe22dfa"
      },
      "source": [
        "# Import pandas package  \n",
        "import pandas as pd \n",
        "  \n",
        "# create a dictionary with five fields each \n",
        "data = { \n",
        "    'A':['A1', 'A2', 'A3', 'A4', 'A5'],  \n",
        "    'B':['B1', 'B2', 'B3', 'B4', 'B4'],  \n",
        "    'C':['C1', 'C2', 'C3', 'C3', 'C3'],  \n",
        "    'D':['D1', 'D2', 'D2', 'D2', 'D2'],  \n",
        "    'E':['E1', 'E1', 'E1', 'E1', 'E1'] } \n",
        "  \n",
        "# Convert the dictionary into DataFrame  \n",
        "df = pd.DataFrame(data) \n",
        "print(df)"
      ],
      "execution_count": 35,
      "outputs": [
        {
          "output_type": "stream",
          "text": [
            "    A   B   C   D   E\n",
            "0  A1  B1  C1  D1  E1\n",
            "1  A2  B2  C2  D2  E1\n",
            "2  A3  B3  C3  D2  E1\n",
            "3  A4  B4  C3  D2  E1\n",
            "4  A5  B4  C3  D2  E1\n"
          ],
          "name": "stdout"
        }
      ]
    }
  ]
}